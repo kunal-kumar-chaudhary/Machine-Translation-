{
  "cells": [
    {
      "cell_type": "markdown",
      "metadata": {
        "id": "view-in-github",
        "colab_type": "text"
      },
      "source": [
        "<a href=\"https://colab.research.google.com/github/kunal-kumar-chaudhary/Machine-Translation-/blob/main/Machine_Translation.ipynb\" target=\"_parent\"><img src=\"https://colab.research.google.com/assets/colab-badge.svg\" alt=\"Open In Colab\"/></a>"
      ]
    },
    {
      "cell_type": "code",
      "execution_count": null,
      "metadata": {
        "id": "G0dDLFs3uTLK"
      },
      "outputs": [],
      "source": [
        "import numpy as np\n",
        "import pandas as pd\n",
        "import tensorflow as tf\n",
        "from tensorflow import keras"
      ]
    },
    {
      "cell_type": "code",
      "execution_count": null,
      "metadata": {
        "id": "ruzUHdBGuf_p",
        "colab": {
          "base_uri": "https://localhost:8080/"
        },
        "outputId": "1a68cc4e-b300-473b-8041-2a64b47d5965"
      },
      "outputs": [
        {
          "output_type": "execute_result",
          "data": {
            "text/plain": [
              "['Archive:  fra-eng.zip',\n",
              " '  inflating: _about.txt              ',\n",
              " '  inflating: fra.txt                 ']"
            ]
          },
          "metadata": {},
          "execution_count": 2
        }
      ],
      "source": [
        "!!curl -O http://www.manythings.org/anki/fra-eng.zip\n",
        "!!unzip fra-eng.zip"
      ]
    },
    {
      "cell_type": "code",
      "execution_count": null,
      "metadata": {
        "id": "Y2eOeh8NvZ5D"
      },
      "outputs": [],
      "source": [
        "batch_size = 64\n",
        "epochs = 100\n",
        "latent_dim = 256 # number of dimension to encode the inputs in\n",
        "num_samples = 10000 # number of samples to train on\n",
        "data_path = \"fra.txt\""
      ]
    },
    {
      "cell_type": "code",
      "execution_count": null,
      "metadata": {
        "id": "bgIDXcTvv7bc"
      },
      "outputs": [],
      "source": [
        "input_texts = []\n",
        "target_texts = []\n",
        "input_characters = set()\n",
        "target_characters = set()\n",
        "\n",
        "with open(data_path, \"r\", encoding=\"utf-8\") as f:\n",
        "  lines = f.read().split(\"\\n\")\n",
        "for line in lines[: min(num_samples, len(lines) - 1)]:\n",
        "  input_text, target_text, _ = line.split(\"\\t\")\n",
        "  # now we use \"tab\" as the start sequence character\n",
        "  # for the targets, and \"\\n\" as \"end sequence\" character.\n",
        "  target_text = \"\\t\" + target_text + \"\\n\"\n",
        "  input_texts.append(input_text)\n",
        "  target_texts.append(target_text)\n",
        "  for char in input_text:\n",
        "    if char not in input_characters:\n",
        "      input_characters.add(char)\n",
        "  for char in target_text:\n",
        "    if char not in target_characters:\n",
        "      target_characters.add(char) \n",
        "       "
      ]
    },
    {
      "cell_type": "code",
      "execution_count": null,
      "metadata": {
        "id": "yDfqdEBRwlFk",
        "colab": {
          "base_uri": "https://localhost:8080/"
        },
        "outputId": "fb6eac05-83f6-4ca1-b6e4-05529dba0dea"
      },
      "outputs": [
        {
          "output_type": "stream",
          "name": "stdout",
          "text": [
            "{'g', 'i', 'K', 'Q', '1', '$', '5', 'l', 't', 'x', '7', 's', ',', \"'\", 'u', 'é', 'S', ':', '&', '0', 'z', '!', 'f', '?', 'e', 'I', 'E', 'Y', '8', 'o', 'H', 'D', 'W', 'k', 'y', 'c', 'C', 'P', '2', ' ', 'U', 'R', 'N', '\"', 'A', 'L', 'd', 'h', 'G', 'B', 'T', '.', 'b', 'M', 'j', 'V', 'm', 'O', '3', 'w', 'q', 'p', 'a', '9', 'r', 'v', '%', '-', 'J', 'n', 'F'}\n"
          ]
        }
      ],
      "source": [
        "print(input_characters)"
      ]
    },
    {
      "cell_type": "code",
      "source": [
        "print(target_characters)"
      ],
      "metadata": {
        "id": "hzWkqrAfWCap",
        "colab": {
          "base_uri": "https://localhost:8080/"
        },
        "outputId": "8583010f-0171-4bc9-f3a9-542b94a75068"
      },
      "execution_count": null,
      "outputs": [
        {
          "output_type": "stream",
          "name": "stdout",
          "text": [
            "{'à', 'K', '1', '’', \"'\", '&', 'z', '(', 'H', 'y', 'R', 'N', 'h', '\\u202f', 'G', 'B', '3', 'r', 'J', 'Ê', '\\n', '«', 'Ç', '5', 't', 'l', '»', ')', 'u', 'S', ':', 'ô', '0', '8', 'Y', 'o', 'D', 'k', 'W', 'U', 'A', 'ï', 'b', 'œ', 'T', 'V', '.', 'j', 'm', 'p', '%', 'n', 'Q', 'ç', 's', ',', 'f', '\\t', 'e', 'E', 'C', '2', ' ', 'â', 'L', 'd', 'é', 'ê', 'M', 'O', 'w', 'q', '9', 'v', 'ù', 'F', 'g', 'i', 'x', 'À', '!', '?', '\\xa0', 'I', 'P', 'c', 'î', 'û', 'É', '\\u2009', 'a', '-', 'è'}\n"
          ]
        }
      ]
    },
    {
      "cell_type": "code",
      "source": [
        "print(input_texts[:10])"
      ],
      "metadata": {
        "id": "xrYImxGwWQRh",
        "colab": {
          "base_uri": "https://localhost:8080/"
        },
        "outputId": "f7cab0df-6e6d-48bc-9055-ac1304655ddc"
      },
      "execution_count": null,
      "outputs": [
        {
          "output_type": "stream",
          "name": "stdout",
          "text": [
            "['Go.', 'Go.', 'Go.', 'Go.', 'Hi.', 'Hi.', 'Run!', 'Run!', 'Run!', 'Run!']\n"
          ]
        }
      ]
    },
    {
      "cell_type": "code",
      "execution_count": null,
      "metadata": {
        "id": "z2mrDxZ2xOiC",
        "colab": {
          "base_uri": "https://localhost:8080/"
        },
        "outputId": "c85bfc52-43ff-45f6-be4e-4be47ca4f4fd"
      },
      "outputs": [
        {
          "output_type": "stream",
          "name": "stdout",
          "text": [
            "['\\tVa !\\n', '\\tMarche.\\n', '\\tEn route !\\n', '\\tBouge !\\n', '\\tSalut !\\n', '\\tSalut.\\n', '\\tCours\\u202f!\\n', '\\tCourez\\u202f!\\n', '\\tPrenez vos jambes à vos cous !\\n', '\\tFile !\\n']\n"
          ]
        }
      ],
      "source": [
        "print(target_texts[:10])"
      ]
    },
    {
      "cell_type": "code",
      "execution_count": null,
      "metadata": {
        "id": "HyjdsjwqySep"
      },
      "outputs": [],
      "source": [
        "input_characters = sorted(list(input_characters))\n",
        "target_characters = sorted(list(target_characters))\n",
        "num_encoder_tokens = len(input_characters)\n",
        "num_decoder_tokens = len(target_characters)\n",
        "max_encoder_seq_length = max([len(text) for text in input_texts])\n",
        "max_decoder_seq_length = max([len(text) for text in target_texts])\n"
      ]
    },
    {
      "cell_type": "code",
      "execution_count": null,
      "metadata": {
        "id": "WElq-NAJw0dL",
        "colab": {
          "base_uri": "https://localhost:8080/"
        },
        "outputId": "84fc73cd-cd82-4738-c3e1-61933ac6eff4"
      },
      "outputs": [
        {
          "output_type": "stream",
          "name": "stdout",
          "text": [
            "number of samples:  10000\n",
            "number of unique input tokens:  71\n",
            "number of unique output tokens:  93\n",
            "max sequence length for inputs:  15\n",
            "max sequence length for outputs:  59\n"
          ]
        }
      ],
      "source": [
        "print(\"number of samples: \", len(input_texts))\n",
        "print(\"number of unique input tokens: \", num_encoder_tokens)\n",
        "print(\"number of unique output tokens: \", num_decoder_tokens)\n",
        "print(\"max sequence length for inputs: \", max_encoder_seq_length)\n",
        "print(\"max sequence length for outputs: \", max_decoder_seq_length)"
      ]
    },
    {
      "cell_type": "code",
      "execution_count": null,
      "metadata": {
        "id": "-8Cf7B57xxy2"
      },
      "outputs": [],
      "source": [
        "input_token_index = dict(\n",
        "    [(char,i) for i, char in enumerate(input_characters)]\n",
        ")\n",
        "target_token_index = dict(\n",
        "    [(char,i) for i, char in enumerate(target_characters)]\n",
        ")"
      ]
    },
    {
      "cell_type": "code",
      "source": [
        "# input_token_index"
      ],
      "metadata": {
        "id": "lh6JRyz7bw1m"
      },
      "execution_count": null,
      "outputs": []
    },
    {
      "cell_type": "code",
      "source": [
        "# target_token_index"
      ],
      "metadata": {
        "id": "8dDhKDwrb9MR"
      },
      "execution_count": null,
      "outputs": []
    },
    {
      "cell_type": "code",
      "source": [
        "len(input_texts)"
      ],
      "metadata": {
        "id": "JAD7BoLrexRN",
        "colab": {
          "base_uri": "https://localhost:8080/"
        },
        "outputId": "59e6e3f5-7fff-4114-fba7-3b3c8050c5e8"
      },
      "execution_count": null,
      "outputs": [
        {
          "output_type": "execute_result",
          "data": {
            "text/plain": [
              "10000"
            ]
          },
          "metadata": {},
          "execution_count": 14
        }
      ]
    },
    {
      "cell_type": "code",
      "source": [
        "# one hot representation of our data\n",
        "encoder_input_data = np.zeros(\n",
        "    (len(input_texts), max_encoder_seq_length, num_encoder_tokens),\n",
        "     dtype=\"float32\"\n",
        ")\n",
        "decoder_input_data = np.zeros(\n",
        "    (len(input_texts), max_decoder_seq_length, num_decoder_tokens),\n",
        "     dtype=\"float32\"\n",
        ")\n",
        "decoder_target_data = np.zeros(\n",
        "    (len(input_texts), max_decoder_seq_length, num_decoder_tokens),\n",
        "    dtype=\"float32\"\n",
        ")"
      ],
      "metadata": {
        "id": "LP47r1iucDy-"
      },
      "execution_count": null,
      "outputs": []
    },
    {
      "cell_type": "code",
      "source": [
        "print(encoder_input_data.ndim)"
      ],
      "metadata": {
        "colab": {
          "base_uri": "https://localhost:8080/"
        },
        "id": "s8nu9RzBk7Il",
        "outputId": "2e5f6163-be75-4999-fe40-ba8bfc028d56"
      },
      "execution_count": null,
      "outputs": [
        {
          "output_type": "stream",
          "name": "stdout",
          "text": [
            "3\n"
          ]
        }
      ]
    },
    {
      "cell_type": "code",
      "source": [
        "print(encoder_input_data.shape)"
      ],
      "metadata": {
        "colab": {
          "base_uri": "https://localhost:8080/"
        },
        "id": "C4ddCP6Mladr",
        "outputId": "8e709c7b-b926-44af-dddc-23907321bfeb"
      },
      "execution_count": null,
      "outputs": [
        {
          "output_type": "stream",
          "name": "stdout",
          "text": [
            "(10000, 15, 71)\n"
          ]
        }
      ]
    },
    {
      "cell_type": "code",
      "source": [
        "decoder_input_data.shape"
      ],
      "metadata": {
        "colab": {
          "base_uri": "https://localhost:8080/"
        },
        "id": "Fc9XgbEmlhq_",
        "outputId": "9c4a8ab4-4bfb-477f-87d2-42624f6c598a"
      },
      "execution_count": null,
      "outputs": [
        {
          "output_type": "execute_result",
          "data": {
            "text/plain": [
              "(10000, 59, 93)"
            ]
          },
          "metadata": {},
          "execution_count": 18
        }
      ]
    },
    {
      "cell_type": "code",
      "source": [
        "decoder_target_data.shape"
      ],
      "metadata": {
        "colab": {
          "base_uri": "https://localhost:8080/"
        },
        "id": "Mt04XKUblmAj",
        "outputId": "b7c6dfbd-05ad-47bb-e77b-2bbbdc6fe30d"
      },
      "execution_count": null,
      "outputs": [
        {
          "output_type": "execute_result",
          "data": {
            "text/plain": [
              "(10000, 59, 93)"
            ]
          },
          "metadata": {},
          "execution_count": 19
        }
      ]
    },
    {
      "cell_type": "code",
      "source": [
        "encoder_input_data"
      ],
      "metadata": {
        "colab": {
          "base_uri": "https://localhost:8080/"
        },
        "id": "v0-fmAqV1dkx",
        "outputId": "fc8b3186-b413-45f4-c415-2ecc4f620e40"
      },
      "execution_count": null,
      "outputs": [
        {
          "output_type": "execute_result",
          "data": {
            "text/plain": [
              "array([[[0., 0., 0., ..., 0., 0., 0.],\n",
              "        [0., 0., 0., ..., 0., 0., 0.],\n",
              "        [0., 0., 0., ..., 0., 0., 0.],\n",
              "        ...,\n",
              "        [0., 0., 0., ..., 0., 0., 0.],\n",
              "        [0., 0., 0., ..., 0., 0., 0.],\n",
              "        [0., 0., 0., ..., 0., 0., 0.]],\n",
              "\n",
              "       [[0., 0., 0., ..., 0., 0., 0.],\n",
              "        [0., 0., 0., ..., 0., 0., 0.],\n",
              "        [0., 0., 0., ..., 0., 0., 0.],\n",
              "        ...,\n",
              "        [0., 0., 0., ..., 0., 0., 0.],\n",
              "        [0., 0., 0., ..., 0., 0., 0.],\n",
              "        [0., 0., 0., ..., 0., 0., 0.]],\n",
              "\n",
              "       [[0., 0., 0., ..., 0., 0., 0.],\n",
              "        [0., 0., 0., ..., 0., 0., 0.],\n",
              "        [0., 0., 0., ..., 0., 0., 0.],\n",
              "        ...,\n",
              "        [0., 0., 0., ..., 0., 0., 0.],\n",
              "        [0., 0., 0., ..., 0., 0., 0.],\n",
              "        [0., 0., 0., ..., 0., 0., 0.]],\n",
              "\n",
              "       ...,\n",
              "\n",
              "       [[0., 0., 0., ..., 0., 0., 0.],\n",
              "        [0., 0., 0., ..., 0., 0., 0.],\n",
              "        [0., 0., 0., ..., 0., 0., 0.],\n",
              "        ...,\n",
              "        [0., 0., 0., ..., 0., 0., 0.],\n",
              "        [0., 0., 0., ..., 0., 0., 0.],\n",
              "        [0., 0., 0., ..., 0., 0., 0.]],\n",
              "\n",
              "       [[0., 0., 0., ..., 0., 0., 0.],\n",
              "        [0., 0., 0., ..., 0., 0., 0.],\n",
              "        [0., 0., 0., ..., 0., 0., 0.],\n",
              "        ...,\n",
              "        [0., 0., 0., ..., 0., 0., 0.],\n",
              "        [0., 0., 0., ..., 0., 0., 0.],\n",
              "        [0., 0., 0., ..., 0., 0., 0.]],\n",
              "\n",
              "       [[0., 0., 0., ..., 0., 0., 0.],\n",
              "        [0., 0., 0., ..., 0., 0., 0.],\n",
              "        [0., 0., 0., ..., 0., 0., 0.],\n",
              "        ...,\n",
              "        [0., 0., 0., ..., 0., 0., 0.],\n",
              "        [0., 0., 0., ..., 0., 0., 0.],\n",
              "        [0., 0., 0., ..., 0., 0., 0.]]], dtype=float32)"
            ]
          },
          "metadata": {},
          "execution_count": 20
        }
      ]
    },
    {
      "cell_type": "code",
      "source": [
        "for i, (input_text, target_text) in enumerate(zip(input_texts, target_texts)):\n",
        "    for t, char in enumerate(input_text):\n",
        "        encoder_input_data[i, t, input_token_index[char]] = 1.0\n",
        "    encoder_input_data[i, t + 1 :, input_token_index[\" \"]] = 1.0\n",
        "    for t, char in enumerate(target_text):\n",
        "        # decoder_target_data is ahead of decoder_input_data by one timestep\n",
        "        decoder_input_data[i, t, target_token_index[char]] = 1.0\n",
        "        if t > 0:\n",
        "            # decoder_target_data will be ahead by one timestep\n",
        "            # and will not include the start character.\n",
        "            decoder_target_data[i, t - 1, target_token_index[char]] = 1.0\n",
        "    decoder_input_data[i, t + 1 :, target_token_index[\" \"]] = 1.0\n",
        "    decoder_target_data[i, t:, target_token_index[\" \"]] = 1.0"
      ],
      "metadata": {
        "id": "rberR59dvna3"
      },
      "execution_count": null,
      "outputs": []
    },
    {
      "cell_type": "code",
      "source": [
        "encoder_input_data[0].shape"
      ],
      "metadata": {
        "colab": {
          "base_uri": "https://localhost:8080/"
        },
        "id": "5_hyfiPqyr5w",
        "outputId": "d986c03a-8c6c-4f83-ed3e-69ae1879581c"
      },
      "execution_count": null,
      "outputs": [
        {
          "output_type": "execute_result",
          "data": {
            "text/plain": [
              "(15, 71)"
            ]
          },
          "metadata": {},
          "execution_count": 22
        }
      ]
    },
    {
      "cell_type": "code",
      "source": [
        "encoder_input_data"
      ],
      "metadata": {
        "colab": {
          "base_uri": "https://localhost:8080/"
        },
        "id": "jKECkgbZydKq",
        "outputId": "d9a20996-b34d-4499-f9cb-d39d65bd54a5"
      },
      "execution_count": null,
      "outputs": [
        {
          "output_type": "execute_result",
          "data": {
            "text/plain": [
              "array([[[0., 0., 0., ..., 0., 0., 0.],\n",
              "        [0., 0., 0., ..., 0., 0., 0.],\n",
              "        [0., 0., 0., ..., 0., 0., 0.],\n",
              "        ...,\n",
              "        [1., 0., 0., ..., 0., 0., 0.],\n",
              "        [1., 0., 0., ..., 0., 0., 0.],\n",
              "        [1., 0., 0., ..., 0., 0., 0.]],\n",
              "\n",
              "       [[0., 0., 0., ..., 0., 0., 0.],\n",
              "        [0., 0., 0., ..., 0., 0., 0.],\n",
              "        [0., 0., 0., ..., 0., 0., 0.],\n",
              "        ...,\n",
              "        [1., 0., 0., ..., 0., 0., 0.],\n",
              "        [1., 0., 0., ..., 0., 0., 0.],\n",
              "        [1., 0., 0., ..., 0., 0., 0.]],\n",
              "\n",
              "       [[0., 0., 0., ..., 0., 0., 0.],\n",
              "        [0., 0., 0., ..., 0., 0., 0.],\n",
              "        [0., 0., 0., ..., 0., 0., 0.],\n",
              "        ...,\n",
              "        [1., 0., 0., ..., 0., 0., 0.],\n",
              "        [1., 0., 0., ..., 0., 0., 0.],\n",
              "        [1., 0., 0., ..., 0., 0., 0.]],\n",
              "\n",
              "       ...,\n",
              "\n",
              "       [[0., 0., 0., ..., 0., 0., 0.],\n",
              "        [0., 0., 0., ..., 0., 0., 0.],\n",
              "        [0., 0., 0., ..., 0., 0., 0.],\n",
              "        ...,\n",
              "        [0., 0., 0., ..., 0., 0., 0.],\n",
              "        [0., 0., 0., ..., 0., 0., 0.],\n",
              "        [0., 0., 0., ..., 0., 0., 0.]],\n",
              "\n",
              "       [[0., 0., 0., ..., 0., 0., 0.],\n",
              "        [0., 0., 0., ..., 0., 0., 0.],\n",
              "        [0., 0., 0., ..., 0., 0., 0.],\n",
              "        ...,\n",
              "        [0., 0., 0., ..., 0., 0., 0.],\n",
              "        [0., 0., 0., ..., 0., 0., 0.],\n",
              "        [0., 0., 0., ..., 0., 0., 0.]],\n",
              "\n",
              "       [[0., 0., 0., ..., 0., 0., 0.],\n",
              "        [0., 0., 0., ..., 0., 0., 0.],\n",
              "        [0., 0., 0., ..., 0., 0., 0.],\n",
              "        ...,\n",
              "        [0., 0., 0., ..., 0., 0., 0.],\n",
              "        [0., 0., 0., ..., 0., 0., 0.],\n",
              "        [0., 0., 0., ..., 0., 0., 0.]]], dtype=float32)"
            ]
          },
          "metadata": {},
          "execution_count": 23
        }
      ]
    },
    {
      "cell_type": "code",
      "source": [
        "# define an input sequence and process it\n",
        "encoder_inputs = tf.keras.layers.Input(shape=(None, num_encoder_tokens))\n",
        "encoder = tf.keras.layers.LSTM(latent_dim, return_state=True)\n",
        "encoder_outputs, state_h, state_c = encoder(encoder_inputs)\n",
        "# we discard \"encoder outputs\" and only keep the states\n",
        "encoder_states = [state_h, state_c]"
      ],
      "metadata": {
        "id": "wrxw07vaCEfZ"
      },
      "execution_count": null,
      "outputs": []
    },
    {
      "cell_type": "code",
      "source": [
        "# setup the decoder using encoder states as initial states\n",
        "decoder_inputs = tf.keras.layers.Input(shape=(None, num_decoder_tokens))\n",
        "# we set up our decoder to return full output sequences\n",
        "# and to return internal states as well. we don't use the\n",
        "# return states in the training model but we will use them in inference\n",
        "decoder_lstm = tf.keras.layers.LSTM(latent_dim, return_sequences=True, return_state=True )\n",
        "decoder_outputs, _, _ = decoder_lstm(decoder_inputs, initial_state=encoder_states)\n",
        "decoder_dense = tf.keras.layers.Dense(num_decoder_tokens, activation=\"softmax\")\n",
        "decoder_outputs = decoder_dense(decoder_outputs)"
      ],
      "metadata": {
        "id": "O1TOBg__HX-Z"
      },
      "execution_count": null,
      "outputs": []
    },
    {
      "cell_type": "code",
      "source": [
        "target_seq = np.zeros((1, 1, num_decoder_tokens))"
      ],
      "metadata": {
        "id": "8KdiGsqRShfJ"
      },
      "execution_count": null,
      "outputs": []
    },
    {
      "cell_type": "code",
      "source": [
        "target_seq"
      ],
      "metadata": {
        "colab": {
          "base_uri": "https://localhost:8080/"
        },
        "id": "ZyRa4l6OSkRH",
        "outputId": "79a2a06b-a226-4fac-a061-2a03cae724bf"
      },
      "execution_count": null,
      "outputs": [
        {
          "output_type": "execute_result",
          "data": {
            "text/plain": [
              "array([[[0., 0., 0., 0., 0., 0., 0., 0., 0., 0., 0., 0., 0., 0., 0., 0.,\n",
              "         0., 0., 0., 0., 0., 0., 0., 0., 0., 0., 0., 0., 0., 0., 0., 0.,\n",
              "         0., 0., 0., 0., 0., 0., 0., 0., 0., 0., 0., 0., 0., 0., 0., 0.,\n",
              "         0., 0., 0., 0., 0., 0., 0., 0., 0., 0., 0., 0., 0., 0., 0., 0.,\n",
              "         0., 0., 0., 0., 0., 0., 0., 0., 0., 0., 0., 0., 0., 0., 0., 0.,\n",
              "         0., 0., 0., 0., 0., 0., 0., 0., 0., 0., 0., 0., 0.]]])"
            ]
          },
          "metadata": {},
          "execution_count": 27
        }
      ]
    },
    {
      "cell_type": "code",
      "source": [
        "target_seq[0, 0, target_token_index[\"\\t\"]] = 1.0"
      ],
      "metadata": {
        "id": "C3VdiZJKSupx"
      },
      "execution_count": null,
      "outputs": []
    },
    {
      "cell_type": "code",
      "source": [
        "target_seq"
      ],
      "metadata": {
        "id": "L1W5roQbSwvZ",
        "outputId": "b9622676-c1db-4418-94d4-fb84c8897af8",
        "colab": {
          "base_uri": "https://localhost:8080/"
        }
      },
      "execution_count": null,
      "outputs": [
        {
          "output_type": "execute_result",
          "data": {
            "text/plain": [
              "array([[[1., 0., 0., 0., 0., 0., 0., 0., 0., 0., 0., 0., 0., 0., 0., 0.,\n",
              "         0., 0., 0., 0., 0., 0., 0., 0., 0., 0., 0., 0., 0., 0., 0., 0.,\n",
              "         0., 0., 0., 0., 0., 0., 0., 0., 0., 0., 0., 0., 0., 0., 0., 0.,\n",
              "         0., 0., 0., 0., 0., 0., 0., 0., 0., 0., 0., 0., 0., 0., 0., 0.,\n",
              "         0., 0., 0., 0., 0., 0., 0., 0., 0., 0., 0., 0., 0., 0., 0., 0.,\n",
              "         0., 0., 0., 0., 0., 0., 0., 0., 0., 0., 0., 0., 0.]]])"
            ]
          },
          "metadata": {},
          "execution_count": 29
        }
      ]
    },
    {
      "cell_type": "code",
      "source": [
        "# define the model that will turn \n",
        "# encoder_input_data and decoder_input_data into decoder_target_data\n",
        "model = tf.keras.Model([encoder_inputs, decoder_inputs], decoder_outputs)\n",
        "\n",
        "# training the model\n",
        "model.compile(optimizer=\"rmsprop\", loss=\"categorical_crossentropy\", metrics=['accuracy'])\n",
        "\n",
        "model.fit([encoder_input_data, decoder_input_data], decoder_target_data,\n",
        "          batch_size=batch_size, epochs=epochs,\n",
        "          validation_split=0.2)"
      ],
      "metadata": {
        "colab": {
          "base_uri": "https://localhost:8080/"
        },
        "id": "ITJY6aVRJZNu",
        "outputId": "fd28dd51-bffa-492c-fdec-2b89334dfd09"
      },
      "execution_count": null,
      "outputs": [
        {
          "output_type": "stream",
          "name": "stdout",
          "text": [
            "Epoch 1/100\n",
            "125/125 [==============================] - 11s 26ms/step - loss: 1.1245 - accuracy: 0.7384 - val_loss: 0.9983 - val_accuracy: 0.7170\n",
            "Epoch 2/100\n",
            "125/125 [==============================] - 2s 12ms/step - loss: 0.7950 - accuracy: 0.7849 - val_loss: 0.8082 - val_accuracy: 0.7721\n",
            "Epoch 3/100\n",
            "125/125 [==============================] - 2s 12ms/step - loss: 0.6470 - accuracy: 0.8181 - val_loss: 0.6982 - val_accuracy: 0.7972\n",
            "Epoch 4/100\n",
            "125/125 [==============================] - 1s 12ms/step - loss: 0.5655 - accuracy: 0.8358 - val_loss: 0.6325 - val_accuracy: 0.8158\n",
            "Epoch 5/100\n",
            "125/125 [==============================] - 1s 12ms/step - loss: 0.5193 - accuracy: 0.8481 - val_loss: 0.5858 - val_accuracy: 0.8292\n",
            "Epoch 6/100\n",
            "125/125 [==============================] - 1s 12ms/step - loss: 0.4867 - accuracy: 0.8571 - val_loss: 0.5522 - val_accuracy: 0.8392\n",
            "Epoch 7/100\n",
            "125/125 [==============================] - 1s 12ms/step - loss: 0.4593 - accuracy: 0.8642 - val_loss: 0.5343 - val_accuracy: 0.8431\n",
            "Epoch 8/100\n",
            "125/125 [==============================] - 1s 12ms/step - loss: 0.4363 - accuracy: 0.8703 - val_loss: 0.5143 - val_accuracy: 0.8489\n",
            "Epoch 9/100\n",
            "125/125 [==============================] - 1s 12ms/step - loss: 0.4162 - accuracy: 0.8757 - val_loss: 0.5013 - val_accuracy: 0.8525\n",
            "Epoch 10/100\n",
            "125/125 [==============================] - 1s 12ms/step - loss: 0.3976 - accuracy: 0.8808 - val_loss: 0.4865 - val_accuracy: 0.8574\n",
            "Epoch 11/100\n",
            "125/125 [==============================] - 1s 12ms/step - loss: 0.3815 - accuracy: 0.8854 - val_loss: 0.4752 - val_accuracy: 0.8589\n",
            "Epoch 12/100\n",
            "125/125 [==============================] - 1s 12ms/step - loss: 0.3660 - accuracy: 0.8899 - val_loss: 0.4680 - val_accuracy: 0.8601\n",
            "Epoch 13/100\n",
            "125/125 [==============================] - 1s 12ms/step - loss: 0.3516 - accuracy: 0.8943 - val_loss: 0.4605 - val_accuracy: 0.8654\n",
            "Epoch 14/100\n",
            "125/125 [==============================] - 1s 12ms/step - loss: 0.3382 - accuracy: 0.8979 - val_loss: 0.4527 - val_accuracy: 0.8670\n",
            "Epoch 15/100\n",
            "125/125 [==============================] - 1s 12ms/step - loss: 0.3256 - accuracy: 0.9018 - val_loss: 0.4471 - val_accuracy: 0.8683\n",
            "Epoch 16/100\n",
            "125/125 [==============================] - 2s 12ms/step - loss: 0.3132 - accuracy: 0.9055 - val_loss: 0.4444 - val_accuracy: 0.8703\n",
            "Epoch 17/100\n",
            "125/125 [==============================] - 2s 12ms/step - loss: 0.3018 - accuracy: 0.9088 - val_loss: 0.4412 - val_accuracy: 0.8704\n",
            "Epoch 18/100\n",
            "125/125 [==============================] - 2s 12ms/step - loss: 0.2917 - accuracy: 0.9115 - val_loss: 0.4383 - val_accuracy: 0.8731\n",
            "Epoch 19/100\n",
            "125/125 [==============================] - 2s 12ms/step - loss: 0.2812 - accuracy: 0.9149 - val_loss: 0.4400 - val_accuracy: 0.8731\n",
            "Epoch 20/100\n",
            "125/125 [==============================] - 2s 13ms/step - loss: 0.2716 - accuracy: 0.9178 - val_loss: 0.4376 - val_accuracy: 0.8743\n",
            "Epoch 21/100\n",
            "125/125 [==============================] - 2s 12ms/step - loss: 0.2618 - accuracy: 0.9208 - val_loss: 0.4391 - val_accuracy: 0.8748\n",
            "Epoch 22/100\n",
            "125/125 [==============================] - 1s 12ms/step - loss: 0.2534 - accuracy: 0.9232 - val_loss: 0.4386 - val_accuracy: 0.8752\n",
            "Epoch 23/100\n",
            "125/125 [==============================] - 2s 13ms/step - loss: 0.2443 - accuracy: 0.9258 - val_loss: 0.4447 - val_accuracy: 0.8758\n",
            "Epoch 24/100\n",
            "125/125 [==============================] - 2s 12ms/step - loss: 0.2361 - accuracy: 0.9285 - val_loss: 0.4444 - val_accuracy: 0.8760\n",
            "Epoch 25/100\n",
            "125/125 [==============================] - 1s 12ms/step - loss: 0.2283 - accuracy: 0.9305 - val_loss: 0.4463 - val_accuracy: 0.8768\n",
            "Epoch 26/100\n",
            "125/125 [==============================] - 1s 12ms/step - loss: 0.2211 - accuracy: 0.9330 - val_loss: 0.4446 - val_accuracy: 0.8769\n",
            "Epoch 27/100\n",
            "125/125 [==============================] - 1s 12ms/step - loss: 0.2136 - accuracy: 0.9348 - val_loss: 0.4459 - val_accuracy: 0.8777\n",
            "Epoch 28/100\n",
            "125/125 [==============================] - 1s 12ms/step - loss: 0.2067 - accuracy: 0.9372 - val_loss: 0.4518 - val_accuracy: 0.8764\n",
            "Epoch 29/100\n",
            "125/125 [==============================] - 2s 12ms/step - loss: 0.2001 - accuracy: 0.9392 - val_loss: 0.4542 - val_accuracy: 0.8765\n",
            "Epoch 30/100\n",
            "125/125 [==============================] - 2s 12ms/step - loss: 0.1936 - accuracy: 0.9409 - val_loss: 0.4609 - val_accuracy: 0.8762\n",
            "Epoch 31/100\n",
            "125/125 [==============================] - 2s 12ms/step - loss: 0.1881 - accuracy: 0.9427 - val_loss: 0.4635 - val_accuracy: 0.8771\n",
            "Epoch 32/100\n",
            "125/125 [==============================] - 2s 13ms/step - loss: 0.1818 - accuracy: 0.9446 - val_loss: 0.4632 - val_accuracy: 0.8786\n",
            "Epoch 33/100\n",
            "125/125 [==============================] - 2s 12ms/step - loss: 0.1760 - accuracy: 0.9464 - val_loss: 0.4689 - val_accuracy: 0.8768\n",
            "Epoch 34/100\n",
            "125/125 [==============================] - 2s 12ms/step - loss: 0.1709 - accuracy: 0.9482 - val_loss: 0.4737 - val_accuracy: 0.8773\n",
            "Epoch 35/100\n",
            "125/125 [==============================] - 2s 13ms/step - loss: 0.1656 - accuracy: 0.9495 - val_loss: 0.4784 - val_accuracy: 0.8785\n",
            "Epoch 36/100\n",
            "125/125 [==============================] - 2s 13ms/step - loss: 0.1604 - accuracy: 0.9510 - val_loss: 0.4820 - val_accuracy: 0.8777\n",
            "Epoch 37/100\n",
            "125/125 [==============================] - 2s 12ms/step - loss: 0.1560 - accuracy: 0.9523 - val_loss: 0.4910 - val_accuracy: 0.8766\n",
            "Epoch 38/100\n",
            "125/125 [==============================] - 2s 12ms/step - loss: 0.1513 - accuracy: 0.9538 - val_loss: 0.4908 - val_accuracy: 0.8768\n",
            "Epoch 39/100\n",
            "125/125 [==============================] - 2s 13ms/step - loss: 0.1471 - accuracy: 0.9548 - val_loss: 0.4918 - val_accuracy: 0.8775\n",
            "Epoch 40/100\n",
            "125/125 [==============================] - 2s 13ms/step - loss: 0.1430 - accuracy: 0.9564 - val_loss: 0.4956 - val_accuracy: 0.8772\n",
            "Epoch 41/100\n",
            "125/125 [==============================] - 2s 12ms/step - loss: 0.1389 - accuracy: 0.9575 - val_loss: 0.5071 - val_accuracy: 0.8763\n",
            "Epoch 42/100\n",
            "125/125 [==============================] - 2s 12ms/step - loss: 0.1350 - accuracy: 0.9585 - val_loss: 0.5040 - val_accuracy: 0.8772\n",
            "Epoch 43/100\n",
            "125/125 [==============================] - 2s 13ms/step - loss: 0.1313 - accuracy: 0.9596 - val_loss: 0.5162 - val_accuracy: 0.8760\n",
            "Epoch 44/100\n",
            "125/125 [==============================] - 1s 12ms/step - loss: 0.1278 - accuracy: 0.9605 - val_loss: 0.5184 - val_accuracy: 0.8765\n",
            "Epoch 45/100\n",
            "125/125 [==============================] - 2s 13ms/step - loss: 0.1245 - accuracy: 0.9615 - val_loss: 0.5238 - val_accuracy: 0.8771\n",
            "Epoch 46/100\n",
            "125/125 [==============================] - 2s 12ms/step - loss: 0.1209 - accuracy: 0.9622 - val_loss: 0.5274 - val_accuracy: 0.8765\n",
            "Epoch 47/100\n",
            "125/125 [==============================] - 2s 12ms/step - loss: 0.1178 - accuracy: 0.9635 - val_loss: 0.5338 - val_accuracy: 0.8759\n",
            "Epoch 48/100\n",
            "125/125 [==============================] - 2s 12ms/step - loss: 0.1149 - accuracy: 0.9643 - val_loss: 0.5402 - val_accuracy: 0.8749\n",
            "Epoch 49/100\n",
            "125/125 [==============================] - 2s 12ms/step - loss: 0.1117 - accuracy: 0.9650 - val_loss: 0.5442 - val_accuracy: 0.8750\n",
            "Epoch 50/100\n",
            "125/125 [==============================] - 2s 12ms/step - loss: 0.1091 - accuracy: 0.9659 - val_loss: 0.5433 - val_accuracy: 0.8765\n",
            "Epoch 51/100\n",
            "125/125 [==============================] - 2s 13ms/step - loss: 0.1061 - accuracy: 0.9668 - val_loss: 0.5498 - val_accuracy: 0.8760\n",
            "Epoch 52/100\n",
            "125/125 [==============================] - 1s 12ms/step - loss: 0.1032 - accuracy: 0.9678 - val_loss: 0.5558 - val_accuracy: 0.8752\n",
            "Epoch 53/100\n",
            "125/125 [==============================] - 2s 12ms/step - loss: 0.1016 - accuracy: 0.9680 - val_loss: 0.5596 - val_accuracy: 0.8764\n",
            "Epoch 54/100\n",
            "125/125 [==============================] - 2s 12ms/step - loss: 0.0985 - accuracy: 0.9689 - val_loss: 0.5689 - val_accuracy: 0.8764\n",
            "Epoch 55/100\n",
            "125/125 [==============================] - 2s 12ms/step - loss: 0.0961 - accuracy: 0.9698 - val_loss: 0.5737 - val_accuracy: 0.8753\n",
            "Epoch 56/100\n",
            "125/125 [==============================] - 2s 13ms/step - loss: 0.0941 - accuracy: 0.9702 - val_loss: 0.5779 - val_accuracy: 0.8759\n",
            "Epoch 57/100\n",
            "125/125 [==============================] - 2s 13ms/step - loss: 0.0920 - accuracy: 0.9709 - val_loss: 0.5869 - val_accuracy: 0.8751\n",
            "Epoch 58/100\n",
            "125/125 [==============================] - 2s 12ms/step - loss: 0.0898 - accuracy: 0.9716 - val_loss: 0.5871 - val_accuracy: 0.8764\n",
            "Epoch 59/100\n",
            "125/125 [==============================] - 2s 12ms/step - loss: 0.0874 - accuracy: 0.9723 - val_loss: 0.5941 - val_accuracy: 0.8752\n",
            "Epoch 60/100\n",
            "125/125 [==============================] - 2s 12ms/step - loss: 0.0859 - accuracy: 0.9726 - val_loss: 0.5910 - val_accuracy: 0.8750\n",
            "Epoch 61/100\n",
            "125/125 [==============================] - 1s 12ms/step - loss: 0.0833 - accuracy: 0.9734 - val_loss: 0.5984 - val_accuracy: 0.8754\n",
            "Epoch 62/100\n",
            "125/125 [==============================] - 2s 12ms/step - loss: 0.0818 - accuracy: 0.9738 - val_loss: 0.6030 - val_accuracy: 0.8756\n",
            "Epoch 63/100\n",
            "125/125 [==============================] - 2s 12ms/step - loss: 0.0799 - accuracy: 0.9743 - val_loss: 0.6076 - val_accuracy: 0.8754\n",
            "Epoch 64/100\n",
            "125/125 [==============================] - 1s 12ms/step - loss: 0.0784 - accuracy: 0.9748 - val_loss: 0.6122 - val_accuracy: 0.8750\n",
            "Epoch 65/100\n",
            "125/125 [==============================] - 2s 12ms/step - loss: 0.0768 - accuracy: 0.9750 - val_loss: 0.6192 - val_accuracy: 0.8748\n",
            "Epoch 66/100\n",
            "125/125 [==============================] - 2s 12ms/step - loss: 0.0749 - accuracy: 0.9758 - val_loss: 0.6281 - val_accuracy: 0.8741\n",
            "Epoch 67/100\n",
            "125/125 [==============================] - 1s 12ms/step - loss: 0.0737 - accuracy: 0.9760 - val_loss: 0.6282 - val_accuracy: 0.8745\n",
            "Epoch 68/100\n",
            "125/125 [==============================] - 1s 12ms/step - loss: 0.0715 - accuracy: 0.9768 - val_loss: 0.6276 - val_accuracy: 0.8746\n",
            "Epoch 69/100\n",
            "125/125 [==============================] - 1s 12ms/step - loss: 0.0706 - accuracy: 0.9770 - val_loss: 0.6348 - val_accuracy: 0.8755\n",
            "Epoch 70/100\n",
            "125/125 [==============================] - 2s 12ms/step - loss: 0.0691 - accuracy: 0.9773 - val_loss: 0.6415 - val_accuracy: 0.8742\n",
            "Epoch 71/100\n",
            "125/125 [==============================] - 2s 12ms/step - loss: 0.0672 - accuracy: 0.9778 - val_loss: 0.6489 - val_accuracy: 0.8745\n",
            "Epoch 72/100\n",
            "125/125 [==============================] - 2s 13ms/step - loss: 0.0664 - accuracy: 0.9780 - val_loss: 0.6503 - val_accuracy: 0.8740\n",
            "Epoch 73/100\n",
            "125/125 [==============================] - 2s 13ms/step - loss: 0.0650 - accuracy: 0.9785 - val_loss: 0.6547 - val_accuracy: 0.8749\n",
            "Epoch 74/100\n",
            "125/125 [==============================] - 2s 12ms/step - loss: 0.0639 - accuracy: 0.9789 - val_loss: 0.6571 - val_accuracy: 0.8739\n",
            "Epoch 75/100\n",
            "125/125 [==============================] - 2s 12ms/step - loss: 0.0627 - accuracy: 0.9791 - val_loss: 0.6598 - val_accuracy: 0.8742\n",
            "Epoch 76/100\n",
            "125/125 [==============================] - 2s 12ms/step - loss: 0.0617 - accuracy: 0.9793 - val_loss: 0.6632 - val_accuracy: 0.8745\n",
            "Epoch 77/100\n",
            "125/125 [==============================] - 2s 13ms/step - loss: 0.0602 - accuracy: 0.9799 - val_loss: 0.6721 - val_accuracy: 0.8737\n",
            "Epoch 78/100\n",
            "125/125 [==============================] - 2s 13ms/step - loss: 0.0594 - accuracy: 0.9800 - val_loss: 0.6771 - val_accuracy: 0.8740\n",
            "Epoch 79/100\n",
            "125/125 [==============================] - 2s 12ms/step - loss: 0.0584 - accuracy: 0.9802 - val_loss: 0.6799 - val_accuracy: 0.8736\n",
            "Epoch 80/100\n",
            "125/125 [==============================] - 2s 12ms/step - loss: 0.0571 - accuracy: 0.9808 - val_loss: 0.6808 - val_accuracy: 0.8739\n",
            "Epoch 81/100\n",
            "125/125 [==============================] - 2s 12ms/step - loss: 0.0564 - accuracy: 0.9810 - val_loss: 0.6890 - val_accuracy: 0.8732\n",
            "Epoch 82/100\n",
            "125/125 [==============================] - 2s 12ms/step - loss: 0.0555 - accuracy: 0.9811 - val_loss: 0.6919 - val_accuracy: 0.8729\n",
            "Epoch 83/100\n",
            "125/125 [==============================] - 2s 12ms/step - loss: 0.0542 - accuracy: 0.9815 - val_loss: 0.6916 - val_accuracy: 0.8743\n",
            "Epoch 84/100\n",
            "125/125 [==============================] - 2s 13ms/step - loss: 0.0537 - accuracy: 0.9817 - val_loss: 0.6963 - val_accuracy: 0.8734\n",
            "Epoch 85/100\n",
            "125/125 [==============================] - 2s 14ms/step - loss: 0.0527 - accuracy: 0.9817 - val_loss: 0.7010 - val_accuracy: 0.8725\n",
            "Epoch 86/100\n",
            "125/125 [==============================] - 2s 13ms/step - loss: 0.0520 - accuracy: 0.9820 - val_loss: 0.7042 - val_accuracy: 0.8734\n",
            "Epoch 87/100\n",
            "125/125 [==============================] - 2s 13ms/step - loss: 0.0513 - accuracy: 0.9823 - val_loss: 0.7009 - val_accuracy: 0.8735\n",
            "Epoch 88/100\n",
            "125/125 [==============================] - 2s 13ms/step - loss: 0.0505 - accuracy: 0.9825 - val_loss: 0.7116 - val_accuracy: 0.8728\n",
            "Epoch 89/100\n",
            "125/125 [==============================] - 2s 12ms/step - loss: 0.0501 - accuracy: 0.9827 - val_loss: 0.7140 - val_accuracy: 0.8729\n",
            "Epoch 90/100\n",
            "125/125 [==============================] - 2s 12ms/step - loss: 0.0490 - accuracy: 0.9828 - val_loss: 0.7202 - val_accuracy: 0.8726\n",
            "Epoch 91/100\n",
            "125/125 [==============================] - 2s 13ms/step - loss: 0.0487 - accuracy: 0.9829 - val_loss: 0.7210 - val_accuracy: 0.8731\n",
            "Epoch 92/100\n",
            "125/125 [==============================] - 2s 13ms/step - loss: 0.0480 - accuracy: 0.9830 - val_loss: 0.7223 - val_accuracy: 0.8731\n",
            "Epoch 93/100\n",
            "125/125 [==============================] - 2s 12ms/step - loss: 0.0470 - accuracy: 0.9836 - val_loss: 0.7270 - val_accuracy: 0.8730\n",
            "Epoch 94/100\n",
            "125/125 [==============================] - 2s 12ms/step - loss: 0.0467 - accuracy: 0.9836 - val_loss: 0.7241 - val_accuracy: 0.8740\n",
            "Epoch 95/100\n",
            "125/125 [==============================] - 1s 12ms/step - loss: 0.0461 - accuracy: 0.9837 - val_loss: 0.7354 - val_accuracy: 0.8724\n",
            "Epoch 96/100\n",
            "125/125 [==============================] - 2s 12ms/step - loss: 0.0455 - accuracy: 0.9838 - val_loss: 0.7322 - val_accuracy: 0.8729\n",
            "Epoch 97/100\n",
            "125/125 [==============================] - 2s 13ms/step - loss: 0.0449 - accuracy: 0.9839 - val_loss: 0.7363 - val_accuracy: 0.8731\n",
            "Epoch 98/100\n",
            "125/125 [==============================] - 2s 13ms/step - loss: 0.0446 - accuracy: 0.9841 - val_loss: 0.7385 - val_accuracy: 0.8732\n",
            "Epoch 99/100\n",
            "125/125 [==============================] - 2s 13ms/step - loss: 0.0440 - accuracy: 0.9844 - val_loss: 0.7448 - val_accuracy: 0.8736\n",
            "Epoch 100/100\n",
            "125/125 [==============================] - 2s 13ms/step - loss: 0.0434 - accuracy: 0.9843 - val_loss: 0.7441 - val_accuracy: 0.8731\n"
          ]
        },
        {
          "output_type": "execute_result",
          "data": {
            "text/plain": [
              "<keras.callbacks.History at 0x7fc2703dc610>"
            ]
          },
          "metadata": {},
          "execution_count": 26
        }
      ]
    }
  ],
  "metadata": {
    "colab": {
      "provenance": [],
      "authorship_tag": "ABX9TyPEaHpL4qWDJalmrx3g/Hy6",
      "include_colab_link": true
    },
    "kernelspec": {
      "display_name": "Python 3",
      "name": "python3"
    },
    "language_info": {
      "name": "python"
    },
    "gpuClass": "standard"
  },
  "nbformat": 4,
  "nbformat_minor": 0
}